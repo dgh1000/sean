{
 "cells": [
  {
   "cell_type": "code",
   "execution_count": 5,
   "metadata": {},
   "outputs": [
    {
     "name": "stdout",
     "output_type": "stream",
     "text": [
      "What's a number: 12\n",
      "IIIIIIIIIII\n"
     ]
    }
   ],
   "source": [
    "getNum = int(input(\"What's a number: \"))\n",
    "\n",
    "rchar = (I,V,X,C,\n",
    "ten = False\n",
    "rnum = ''\n",
    "\n",
    "for x in range(getNum):\n",
    "    \n",
    "    rnum = 'I'*x\n",
    "    \n",
    "print(rnum)"
   ]
  },
  {
   "cell_type": "code",
   "execution_count": 6,
   "metadata": {},
   "outputs": [
    {
     "name": "stdout",
     "output_type": "stream",
     "text": [
      "What's a number: 12\n",
      "[2, 1]\n"
     ]
    }
   ],
   "source": [
    "innum = int(input(\"What's a number: \"))\n",
    "digits = []\n",
    "\n",
    "while innum >= 1:\n",
    "    digits.append(innum%10)\n",
    "    innum = innum//10\n",
    "\n",
    "print(digits)"
   ]
  },
  {
   "cell_type": "code",
   "execution_count": null,
   "metadata": {},
   "outputs": [],
   "source": []
  }
 ],
 "metadata": {
  "kernelspec": {
   "display_name": "Python 3",
   "language": "python",
   "name": "python3"
  },
  "language_info": {
   "codemirror_mode": {
    "name": "ipython",
    "version": 3
   },
   "file_extension": ".py",
   "mimetype": "text/x-python",
   "name": "python",
   "nbconvert_exporter": "python",
   "pygments_lexer": "ipython3",
   "version": "3.6.5"
  }
 },
 "nbformat": 4,
 "nbformat_minor": 2
}
