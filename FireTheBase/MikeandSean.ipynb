{
 "cells": [
  {
   "cell_type": "code",
   "execution_count": 4,
   "metadata": {},
   "outputs": [],
   "source": [
    "#mikeandsean-38045-firebase-adminsdk-p3j4r-2194fec1e0.json"
   ]
  },
  {
   "cell_type": "code",
   "execution_count": 2,
   "metadata": {},
   "outputs": [],
   "source": [
    "import firebase_admin\n",
    "from firebase_admin import credentials\n",
    "from firebase_admin import firestore\n",
    "\n",
    "# Use a service account\n",
    "cred = credentials.Certificate('./mikeandsean-38045-firebase-adminsdk-p3j4r-2194fec1e0.json')\n",
    "firebase_admin.initialize_app(cred)\n",
    "\n",
    "db = firestore.client()"
   ]
  },
  {
   "cell_type": "code",
   "execution_count": 3,
   "metadata": {},
   "outputs": [
    {
     "data": {
      "text/plain": [
       "update_time {\n",
       "  seconds: 1553971087\n",
       "  nanos: 611054000\n",
       "}"
      ]
     },
     "execution_count": 3,
     "metadata": {},
     "output_type": "execute_result"
    }
   ],
   "source": [
    "doc_ref = db.collection(u'mike').document(u'alovelace').collection(u'test').document(u'bill')\n",
    "doc_ref.set({\n",
    "    u'uid': u'Test1',\n",
    "    u'last': u'LastTest',\n",
    "    u'born': 1815\n",
    "})\n",
    "  "
   ]
  },
  {
   "cell_type": "code",
   "execution_count": 10,
   "metadata": {},
   "outputs": [],
   "source": [
    "import urllib\n",
    "\n",
    "def upload_file():\n",
    "\n",
    "    my_file = open(\"rainbow.jpeg\", \"r\")\n",
    "    my_bytes = my_file.read()\n",
    "    #my_url = \"https://firebasestorage.googleapis.com/v0/b/hansel-e34d2.appspot.com.appspot.com/o/rainbow.jpeg\"\n",
    "    my_url = \"https://firebasestorage.googleapis.com/v0/b/mikeandsean-38045.appspot.com/o/rainbow.jpeg\"\n",
    "    my_headers = {\"Content-Type\": \"text/plain\"}\n",
    "\n",
    "    my_request = urllib.request.Request(my_url, data=my_bytes, headers=my_headers, method=\"POST\")\n",
    "\n",
    "    try:\n",
    "        loader = urllib.request.urlopen(my_request)\n",
    "    except urllib.error.URLError as e:\n",
    "        message = json.loads(e.read())\n",
    "        print(message[\"error\"][\"message\"])\n",
    "    else:\n",
    "        print(loader.read())"
   ]
  },
  {
   "cell_type": "code",
   "execution_count": 11,
   "metadata": {},
   "outputs": [
    {
     "name": "stdout",
     "output_type": "stream",
     "text": [
      "b'{\\n  \"name\": \"rainbow.jpeg\",\\n  \"bucket\": \"mikeandsean-38045.appspot.com\",\\n  \"generation\": \"1553971499166685\",\\n  \"metageneration\": \"1\",\\n  \"contentType\": \"text/plain\",\\n  \"timeCreated\": \"2019-03-30T18:44:59.166Z\",\\n  \"updated\": \"2019-03-30T18:44:59.166Z\",\\n  \"storageClass\": \"STANDARD\",\\n  \"size\": \"1903882\",\\n  \"md5Hash\": \"UmHkzAMwMBMYkICJKQhDGw==\",\\n  \"contentEncoding\": \"identity\",\\n  \"contentDisposition\": \"inline; filename*=utf-8\\'\\'rainbow.jpeg\",\\n  \"crc32c\": \"KbtGqg==\",\\n  \"etag\": \"CN3Xy/nCquECEAE=\",\\n  \"downloadTokens\": \"26699ebc-7f15-40db-ac47-5163efaf07e2\"\\n}'\n"
     ]
    }
   ],
   "source": [
    "upload_file()"
   ]
  },
  {
   "cell_type": "code",
   "execution_count": 12,
   "metadata": {},
   "outputs": [],
   "source": [
    "def delete_file():\n",
    "\t\n",
    "    my_url = \"https://firebasestorage.googleapis.com/v0/b/mikeandsean-38045.appspot.com/o/swan.jpg\"\n",
    "    my_request = urllib.request.Request(my_url, method=\"DELETE\")\n",
    "\n",
    "    try:\n",
    "        loader = urllib.request.urlopen(my_request)\n",
    "        print(\"No Error\")\n",
    "    except urllib.error.URLError as e:\n",
    "        message = json.loads(e.read())\n",
    "        print(message[\"error\"][\"message\"])\n",
    "        \n",
    "    else:\n",
    "        print(loader.read())\n",
    "        print(\"Error\")"
   ]
  },
  {
   "cell_type": "code",
   "execution_count": 13,
   "metadata": {},
   "outputs": [
    {
     "name": "stdout",
     "output_type": "stream",
     "text": [
      "No Error\n",
      "b''\n",
      "Error\n"
     ]
    }
   ],
   "source": [
    "delete_file()"
   ]
  },
  {
   "cell_type": "code",
   "execution_count": null,
   "metadata": {},
   "outputs": [],
   "source": []
  }
 ],
 "metadata": {
  "kernelspec": {
   "display_name": "Python 3",
   "language": "python",
   "name": "python3"
  },
  "language_info": {
   "codemirror_mode": {
    "name": "ipython",
    "version": 3
   },
   "file_extension": ".py",
   "mimetype": "text/x-python",
   "name": "python",
   "nbconvert_exporter": "python",
   "pygments_lexer": "ipython3",
   "version": "3.6.5"
  }
 },
 "nbformat": 4,
 "nbformat_minor": 2
}
